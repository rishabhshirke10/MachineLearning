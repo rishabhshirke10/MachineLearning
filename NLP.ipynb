{
 "cells": [
  {
   "cell_type": "code",
   "execution_count": 1,
   "metadata": {},
   "outputs": [
    {
     "name": "stdout",
     "output_type": "stream",
     "text": [
      "Requirement already satisfied: nltk in c:\\users\\shirk\\appdata\\local\\programs\\python\\python311\\lib\\site-packages (3.8.1)Note: you may need to restart the kernel to use updated packages.\n",
      "\n",
      "Requirement already satisfied: click in c:\\users\\shirk\\appdata\\local\\programs\\python\\python311\\lib\\site-packages (from nltk) (8.1.3)\n",
      "Requirement already satisfied: joblib in c:\\users\\shirk\\appdata\\local\\programs\\python\\python311\\lib\\site-packages (from nltk) (1.2.0)\n",
      "Requirement already satisfied: regex>=2021.8.3 in c:\\users\\shirk\\appdata\\local\\programs\\python\\python311\\lib\\site-packages (from nltk) (2023.6.3)\n",
      "Requirement already satisfied: tqdm in c:\\users\\shirk\\appdata\\local\\programs\\python\\python311\\lib\\site-packages (from nltk) (4.65.0)\n",
      "Requirement already satisfied: colorama in c:\\users\\shirk\\appdata\\roaming\\python\\python311\\site-packages (from click->nltk) (0.4.6)\n"
     ]
    },
    {
     "name": "stderr",
     "output_type": "stream",
     "text": [
      "\n",
      "[notice] A new release of pip is available: 24.0 -> 24.2\n",
      "[notice] To update, run: python.exe -m pip install --upgrade pip\n"
     ]
    }
   ],
   "source": [
    "pip install nltk"
   ]
  },
  {
   "cell_type": "code",
   "execution_count": 2,
   "metadata": {},
   "outputs": [],
   "source": [
    "paragraph = \"\"\"Elon Reeve Musk FRS (/ˈiːlɒn/; born June 28, 1971) is a businessman and investor known for his key roles in space company SpaceX and automotive company Tesla, Inc. Other involvements include ownership of X Corp., the company that operates the social media platform X (formerly known as Twitter), and his role in the founding of The Boring Company, xAI, Neuralink and OpenAI. He is one of the wealthiest people in the world; as of July 2024, Forbes estimates his net worth to be US$221 billion.[3]\n",
    "Musk was born in Pretoria to model Maye and businessman and engineer Errol Musk, and briefly attended the University of Pretoria before immigrating to Canada at age 18, acquiring citizenship through his Canadian-born mother. Two years later, he matriculated at Queen's University at Kingston in Canada. Musk later transferred to the University of Pennsylvania and received bachelor's degrees in economics and physics. He moved to California in 1995 to attend Stanford University, but dropped out after two days and, with his brother Kimbal, co-founded online city guide software company Zip2. The startup was acquired by Compaq for $307 million in 1999. That same year, Musk co-founded X.com, a direct bank. X.com merged with Confinity in 2000 to form PayPal. In October 2002, eBay acquired PayPal for $1.5 billion.\n",
    "Using $100 million of the money he made from the sale of PayPal, Musk founded SpaceX, a spaceflight services company, in 2002.\"\"\""
   ]
  },
  {
   "cell_type": "code",
   "execution_count": 3,
   "metadata": {},
   "outputs": [],
   "source": [
    "import nltk\n",
    "from nltk.stem import PorterStemmer\n",
    "from nltk.corpus import stopwords\n",
    " "
   ]
  },
  {
   "cell_type": "code",
   "execution_count": 4,
   "metadata": {},
   "outputs": [
    {
     "name": "stderr",
     "output_type": "stream",
     "text": [
      "[nltk_data] Downloading package punkt to\n",
      "[nltk_data]     C:\\Users\\shirk\\AppData\\Roaming\\nltk_data...\n",
      "[nltk_data]   Package punkt is already up-to-date!\n"
     ]
    },
    {
     "data": {
      "text/plain": [
       "True"
      ]
     },
     "execution_count": 4,
     "metadata": {},
     "output_type": "execute_result"
    }
   ],
   "source": [
    "nltk.download('punkt')"
   ]
  },
  {
   "cell_type": "code",
   "execution_count": 5,
   "metadata": {},
   "outputs": [
    {
     "name": "stdout",
     "output_type": "stream",
     "text": [
      "['Elon Reeve Musk FRS (/ˈiːlɒn/; born June 28, 1971) is a businessman and investor known for his key roles in space company SpaceX and automotive company Tesla, Inc. Other involvements include ownership of X Corp., the company that operates the social media platform X (formerly known as Twitter), and his role in the founding of The Boring Company, xAI, Neuralink and OpenAI.', 'He is one of the wealthiest people in the world; as of July 2024, Forbes estimates his net worth to be US$221 billion.', '[3]\\nMusk was born in Pretoria to model Maye and businessman and engineer Errol Musk, and briefly attended the University of Pretoria before immigrating to Canada at age 18, acquiring citizenship through his Canadian-born mother.', \"Two years later, he matriculated at Queen's University at Kingston in Canada.\", \"Musk later transferred to the University of Pennsylvania and received bachelor's degrees in economics and physics.\", 'He moved to California in 1995 to attend Stanford University, but dropped out after two days and, with his brother Kimbal, co-founded online city guide software company Zip2.', 'The startup was acquired by Compaq for $307 million in 1999.', 'That same year, Musk co-founded X.com, a direct bank.', 'X.com merged with Confinity in 2000 to form PayPal.', 'In October 2002, eBay acquired PayPal for $1.5 billion.', 'Using $100 million of the money he made from the sale of PayPal, Musk founded SpaceX, a spaceflight services company, in 2002.']\n"
     ]
    }
   ],
   "source": [
    "sentence1 = nltk.sent_tokenize(paragraph)\n",
    "print(sentence1)"
   ]
  },
  {
   "cell_type": "code",
   "execution_count": 6,
   "metadata": {},
   "outputs": [
    {
     "data": {
      "text/plain": [
       "'goe'"
      ]
     },
     "execution_count": 6,
     "metadata": {},
     "output_type": "execute_result"
    }
   ],
   "source": [
    "stemer=PorterStemmer()\n",
    "stemer.stem('Going')\n",
    "stemer.stem('goes')"
   ]
  },
  {
   "cell_type": "code",
   "execution_count": 7,
   "metadata": {},
   "outputs": [
    {
     "name": "stderr",
     "output_type": "stream",
     "text": [
      "[nltk_data] Downloading package wordnet to\n",
      "[nltk_data]     C:\\Users\\shirk\\AppData\\Roaming\\nltk_data...\n",
      "[nltk_data]   Package wordnet is already up-to-date!\n"
     ]
    },
    {
     "data": {
      "text/plain": [
       "True"
      ]
     },
     "execution_count": 7,
     "metadata": {},
     "output_type": "execute_result"
    }
   ],
   "source": [
    "nltk.download('wordnet')"
   ]
  },
  {
   "cell_type": "code",
   "execution_count": 8,
   "metadata": {},
   "outputs": [
    {
     "data": {
      "text/plain": [
       "'go'"
      ]
     },
     "execution_count": 8,
     "metadata": {},
     "output_type": "execute_result"
    }
   ],
   "source": [
    "from nltk.stem import WordNetLemmatizer\n",
    "lemmatizer=WordNetLemmatizer()\n",
    "lemmatizer.lemmatize('goes')"
   ]
  },
  {
   "cell_type": "code",
   "execution_count": 9,
   "metadata": {},
   "outputs": [
    {
     "data": {
      "text/plain": [
       "['elon reeve musk frs    i l n   born june           is a businessman and investor known for his key roles in space company spacex and automotive company tesla  inc  other involvements include ownership of x corp   the company that operates the social media platform x  formerly known as twitter   and his role in the founding of the boring company  xai  neuralink and openai ',\n",
       " 'he is one of the wealthiest people in the world  as of july       forbes estimates his net worth to be us     billion ',\n",
       " '    musk was born in pretoria to model maye and businessman and engineer errol musk  and briefly attended the university of pretoria before immigrating to canada at age     acquiring citizenship through his canadian born mother ',\n",
       " 'two years later  he matriculated at queen s university at kingston in canada ',\n",
       " 'musk later transferred to the university of pennsylvania and received bachelor s degrees in economics and physics ',\n",
       " 'he moved to california in      to attend stanford university  but dropped out after two days and  with his brother kimbal  co founded online city guide software company zip  ',\n",
       " 'the startup was acquired by compaq for      million in      ',\n",
       " 'that same year  musk co founded x com  a direct bank ',\n",
       " 'x com merged with confinity in      to form paypal ',\n",
       " 'in october       ebay acquired paypal for      billion ',\n",
       " 'using      million of the money he made from the sale of paypal  musk founded spacex  a spaceflight services company  in      ']"
      ]
     },
     "execution_count": 9,
     "metadata": {},
     "output_type": "execute_result"
    }
   ],
   "source": [
    "import re\n",
    "corpus=[]\n",
    "for i in range(len(sentence1)):\n",
    "    text=re.sub('[^a-zA-Z]',\" \", sentence1[i])\n",
    "    text=text.lower()\n",
    "    corpus.append(text)\n",
    "corpus"
   ]
  },
  {
   "cell_type": "code",
   "execution_count": 10,
   "metadata": {},
   "outputs": [
    {
     "name": "stderr",
     "output_type": "stream",
     "text": [
      "[nltk_data] Downloading package stopwords to\n",
      "[nltk_data]     C:\\Users\\shirk\\AppData\\Roaming\\nltk_data...\n",
      "[nltk_data]   Package stopwords is already up-to-date!\n"
     ]
    },
    {
     "data": {
      "text/plain": [
       "True"
      ]
     },
     "execution_count": 10,
     "metadata": {},
     "output_type": "execute_result"
    }
   ],
   "source": [
    "nltk.download('stopwords')"
   ]
  },
  {
   "cell_type": "code",
   "execution_count": 11,
   "metadata": {},
   "outputs": [
    {
     "name": "stdout",
     "output_type": "stream",
     "text": [
      "elon\n",
      "reev\n",
      "musk\n",
      "fr\n",
      "l\n",
      "n\n",
      "born\n",
      "june\n",
      "businessman\n",
      "investor\n",
      "known\n",
      "key\n",
      "role\n",
      "space\n",
      "compani\n",
      "spacex\n",
      "automot\n",
      "compani\n",
      "tesla\n",
      "inc\n",
      "involv\n",
      "includ\n",
      "ownership\n",
      "x\n",
      "corp\n",
      "compani\n",
      "oper\n",
      "social\n",
      "media\n",
      "platform\n",
      "x\n",
      "formerli\n",
      "known\n",
      "twitter\n",
      "role\n",
      "found\n",
      "bore\n",
      "compani\n",
      "xai\n",
      "neuralink\n",
      "openai\n",
      "one\n",
      "wealthiest\n",
      "peopl\n",
      "world\n",
      "juli\n",
      "forb\n",
      "estim\n",
      "net\n",
      "worth\n",
      "us\n",
      "billion\n",
      "musk\n",
      "born\n",
      "pretoria\n",
      "model\n",
      "may\n",
      "businessman\n",
      "engin\n",
      "errol\n",
      "musk\n",
      "briefli\n",
      "attend\n",
      "univers\n",
      "pretoria\n",
      "immigr\n",
      "canada\n",
      "age\n",
      "acquir\n",
      "citizenship\n",
      "canadian\n",
      "born\n",
      "mother\n",
      "two\n",
      "year\n",
      "later\n",
      "matricul\n",
      "queen\n",
      "univers\n",
      "kingston\n",
      "canada\n",
      "musk\n",
      "later\n",
      "transfer\n",
      "univers\n",
      "pennsylvania\n",
      "receiv\n",
      "bachelor\n",
      "degre\n",
      "econom\n",
      "physic\n",
      "move\n",
      "california\n",
      "attend\n",
      "stanford\n",
      "univers\n",
      "drop\n",
      "two\n",
      "day\n",
      "brother\n",
      "kimbal\n",
      "co\n",
      "found\n",
      "onlin\n",
      "citi\n",
      "guid\n",
      "softwar\n",
      "compani\n",
      "zip\n",
      "startup\n",
      "acquir\n",
      "compaq\n",
      "million\n",
      "year\n",
      "musk\n",
      "co\n",
      "found\n",
      "x\n",
      "com\n",
      "direct\n",
      "bank\n",
      "x\n",
      "com\n",
      "merg\n",
      "confin\n",
      "form\n",
      "paypal\n",
      "octob\n",
      "ebay\n",
      "acquir\n",
      "paypal\n",
      "billion\n",
      "use\n",
      "million\n",
      "money\n",
      "made\n",
      "sale\n",
      "paypal\n",
      "musk\n",
      "found\n",
      "spacex\n",
      "spaceflight\n",
      "servic\n",
      "compani\n"
     ]
    }
   ],
   "source": [
    "for i in corpus:\n",
    "    words=nltk.word_tokenize(i)\n",
    "    for word in words:\n",
    "        if word not in set(stopwords.words('english')):\n",
    "            print(stemer.stem(word))"
   ]
  },
  {
   "cell_type": "code",
   "execution_count": 12,
   "metadata": {},
   "outputs": [
    {
     "data": {
      "text/plain": [
       "{'elon': 39,\n",
       " 'reeve': 98,\n",
       " 'musk': 78,\n",
       " 'frs': 50,\n",
       " 'born': 16,\n",
       " 'june': 62,\n",
       " 'is': 60,\n",
       " 'businessman': 19,\n",
       " 'and': 4,\n",
       " 'investor': 58,\n",
       " 'known': 66,\n",
       " 'for': 43,\n",
       " 'his': 53,\n",
       " 'key': 63,\n",
       " 'roles': 100,\n",
       " 'in': 55,\n",
       " 'space': 106,\n",
       " 'company': 29,\n",
       " 'spacex': 108,\n",
       " 'automotive': 9,\n",
       " 'tesla': 111,\n",
       " 'inc': 56,\n",
       " 'other': 87,\n",
       " 'involvements': 59,\n",
       " 'include': 57,\n",
       " 'ownership': 89,\n",
       " 'of': 82,\n",
       " 'corp': 32,\n",
       " 'the': 113,\n",
       " 'that': 112,\n",
       " 'operates': 86,\n",
       " 'social': 104,\n",
       " 'media': 71,\n",
       " 'platform': 94,\n",
       " 'formerly': 46,\n",
       " 'as': 5,\n",
       " 'twitter': 117,\n",
       " 'role': 99,\n",
       " 'founding': 48,\n",
       " 'boring': 15,\n",
       " 'xai': 127,\n",
       " 'neuralink': 80,\n",
       " 'openai': 85,\n",
       " 'he': 52,\n",
       " 'one': 83,\n",
       " 'wealthiest': 123,\n",
       " 'people': 92,\n",
       " 'world': 125,\n",
       " 'july': 61,\n",
       " 'forbes': 44,\n",
       " 'estimates': 42,\n",
       " 'net': 79,\n",
       " 'worth': 126,\n",
       " 'to': 115,\n",
       " 'be': 12,\n",
       " 'us': 120,\n",
       " 'billion': 14,\n",
       " 'was': 122,\n",
       " 'pretoria': 95,\n",
       " 'model': 74,\n",
       " 'maye': 70,\n",
       " 'engineer': 40,\n",
       " 'errol': 41,\n",
       " 'briefly': 17,\n",
       " 'attended': 8,\n",
       " 'university': 119,\n",
       " 'before': 13,\n",
       " 'immigrating': 54,\n",
       " 'canada': 23,\n",
       " 'at': 6,\n",
       " 'age': 3,\n",
       " 'acquiring': 1,\n",
       " 'citizenship': 25,\n",
       " 'through': 114,\n",
       " 'canadian': 24,\n",
       " 'mother': 76,\n",
       " 'two': 118,\n",
       " 'years': 129,\n",
       " 'later': 67,\n",
       " 'matriculated': 69,\n",
       " 'queen': 96,\n",
       " 'kingston': 65,\n",
       " 'transferred': 116,\n",
       " 'pennsylvania': 91,\n",
       " 'received': 97,\n",
       " 'bachelor': 10,\n",
       " 'degrees': 34,\n",
       " 'economics': 38,\n",
       " 'physics': 93,\n",
       " 'moved': 77,\n",
       " 'california': 22,\n",
       " 'attend': 7,\n",
       " 'stanford': 109,\n",
       " 'but': 20,\n",
       " 'dropped': 36,\n",
       " 'out': 88,\n",
       " 'after': 2,\n",
       " 'days': 33,\n",
       " 'with': 124,\n",
       " 'brother': 18,\n",
       " 'kimbal': 64,\n",
       " 'co': 27,\n",
       " 'founded': 47,\n",
       " 'online': 84,\n",
       " 'city': 26,\n",
       " 'guide': 51,\n",
       " 'software': 105,\n",
       " 'zip': 130,\n",
       " 'startup': 110,\n",
       " 'acquired': 0,\n",
       " 'by': 21,\n",
       " 'compaq': 30,\n",
       " 'million': 73,\n",
       " 'same': 102,\n",
       " 'year': 128,\n",
       " 'com': 28,\n",
       " 'direct': 35,\n",
       " 'bank': 11,\n",
       " 'merged': 72,\n",
       " 'confinity': 31,\n",
       " 'form': 45,\n",
       " 'paypal': 90,\n",
       " 'october': 81,\n",
       " 'ebay': 37,\n",
       " 'using': 121,\n",
       " 'money': 75,\n",
       " 'made': 68,\n",
       " 'from': 49,\n",
       " 'sale': 101,\n",
       " 'spaceflight': 107,\n",
       " 'services': 103}"
      ]
     },
     "execution_count": 12,
     "metadata": {},
     "output_type": "execute_result"
    }
   ],
   "source": [
    "from sklearn.feature_extraction.text import CountVectorizer\n",
    "cv=CountVectorizer()\n",
    "x=cv.fit_transform(corpus)\n",
    "cv.vocabulary_"
   ]
  },
  {
   "cell_type": "code",
   "execution_count": 13,
   "metadata": {},
   "outputs": [
    {
     "name": "stdout",
     "output_type": "stream",
     "text": [
      "{'love': 5, 'machine': 6, 'learning': 4, 'is': 2, 'fun': 1, 'enjoy': 0, 'new': 8, 'things': 12, 'natural': 7, 'langugage': 3, 'processing': 11, 'part': 10, 'of': 9}\n"
     ]
    }
   ],
   "source": [
    "from sklearn.feature_extraction.text import TfidfVectorizer\n",
    "corpus=[\n",
    "    \"I love machine learning\",\n",
    "    \"Machine learning is fun\",\n",
    "    \"I enjoy learning new things\",\n",
    "    \"Natural langugage processing is a part of machine learning\"\n",
    "]\n",
    "\n",
    "v=TfidfVectorizer()\n",
    "result=v.fit_transform(corpus)\n",
    "print(v.vocabulary_)"
   ]
  },
  {
   "cell_type": "code",
   "execution_count": 14,
   "metadata": {},
   "outputs": [
    {
     "name": "stdout",
     "output_type": "stream",
     "text": [
      "  (0, 4)\t0.40264193560603856\n",
      "  (0, 6)\t0.4924888870251974\n",
      "  (0, 5)\t0.7715790094657221\n",
      "  (1, 1)\t0.6591911178676787\n",
      "  (1, 2)\t0.5197138488789809\n",
      "  (1, 4)\t0.3439932714296342\n",
      "  (1, 6)\t0.42075315164463567\n",
      "  (2, 12)\t0.5528053199908667\n",
      "  (2, 8)\t0.5528053199908667\n",
      "  (2, 0)\t0.5528053199908667\n",
      "  (2, 4)\t0.2884767487500274\n",
      "  (3, 9)\t0.3983677555530427\n",
      "  (3, 10)\t0.3983677555530427\n",
      "  (3, 11)\t0.3983677555530427\n",
      "  (3, 3)\t0.3983677555530427\n",
      "  (3, 7)\t0.3983677555530427\n",
      "  (3, 2)\t0.314077714180172\n",
      "  (3, 4)\t0.20788482088176377\n",
      "  (3, 6)\t0.25427297807763893\n"
     ]
    }
   ],
   "source": [
    "print(result)"
   ]
  },
  {
   "cell_type": "code",
   "execution_count": 15,
   "metadata": {},
   "outputs": [
    {
     "name": "stdout",
     "output_type": "stream",
     "text": [
      "enjoy 1.916290731874155\n",
      "fun 1.916290731874155\n",
      "is 1.5108256237659907\n",
      "langugage 1.916290731874155\n",
      "learning 1.0\n",
      "love 1.916290731874155\n",
      "machine 1.2231435513142097\n",
      "natural 1.916290731874155\n",
      "new 1.916290731874155\n",
      "of 1.916290731874155\n",
      "part 1.916290731874155\n",
      "processing 1.916290731874155\n",
      "things 1.916290731874155\n"
     ]
    }
   ],
   "source": [
    "all_features_names=v.get_feature_names_out()\n",
    "for word in all_features_names:\n",
    "\n",
    "    indx=v.vocabulary_.get(word)\n",
    "    idf_score=v.idf_[indx]\n",
    "    print(f\"{word} {idf_score}\")"
   ]
  },
  {
   "cell_type": "code",
   "execution_count": null,
   "metadata": {},
   "outputs": [],
   "source": []
  }
 ],
 "metadata": {
  "kernelspec": {
   "display_name": "Python 3",
   "language": "python",
   "name": "python3"
  },
  "language_info": {
   "codemirror_mode": {
    "name": "ipython",
    "version": 3
   },
   "file_extension": ".py",
   "mimetype": "text/x-python",
   "name": "python",
   "nbconvert_exporter": "python",
   "pygments_lexer": "ipython3",
   "version": "3.11.0"
  }
 },
 "nbformat": 4,
 "nbformat_minor": 2
}
